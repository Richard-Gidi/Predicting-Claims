{
 "cells": [
  {
   "cell_type": "markdown",
   "id": "6a6cb657",
   "metadata": {},
   "source": [
    "# Importing relevant libraries"
   ]
  },
  {
   "cell_type": "code",
   "execution_count": 55,
   "id": "fe37578a",
   "metadata": {},
   "outputs": [],
   "source": [
    "import pandas as pd\n",
    "import numpy as np\n",
    "import matplotlib.pylab as plt\n",
    "import seaborn as sns\n",
    "import statsmodels.formula.api as sm\n",
    "plt.style.use('ggplot')\n",
    "import warnings\n",
    "warnings.filterwarnings('ignore')\n",
    "from sklearn.model_selection import GridSearchCV"
   ]
  },
  {
   "cell_type": "markdown",
   "id": "3076cdfb",
   "metadata": {},
   "source": [
    "# Reading our dataset"
   ]
  },
  {
   "cell_type": "code",
   "execution_count": 56,
   "id": "4b887207",
   "metadata": {},
   "outputs": [],
   "source": [
    "data=pd.read_excel('DATA.xlsx',header=2)"
   ]
  },
  {
   "cell_type": "code",
   "execution_count": 57,
   "id": "f376864e",
   "metadata": {},
   "outputs": [
    {
     "data": {
      "text/html": [
       "<div>\n",
       "<style scoped>\n",
       "    .dataframe tbody tr th:only-of-type {\n",
       "        vertical-align: middle;\n",
       "    }\n",
       "\n",
       "    .dataframe tbody tr th {\n",
       "        vertical-align: top;\n",
       "    }\n",
       "\n",
       "    .dataframe thead th {\n",
       "        text-align: right;\n",
       "    }\n",
       "</style>\n",
       "<table border=\"1\" class=\"dataframe\">\n",
       "  <thead>\n",
       "    <tr style=\"text-align: right;\">\n",
       "      <th></th>\n",
       "      <th>Unnamed: 0</th>\n",
       "      <th>COVER TYPE</th>\n",
       "      <th>PRODUCT TYPE</th>\n",
       "      <th>VEHICLE USE</th>\n",
       "      <th>MAKE</th>\n",
       "      <th>POLICY STATUS</th>\n",
       "      <th>PREMIUM PAID</th>\n",
       "      <th>TOTAL CLAIMS PAID ON POLICY</th>\n",
       "    </tr>\n",
       "  </thead>\n",
       "  <tbody>\n",
       "    <tr>\n",
       "      <th>0</th>\n",
       "      <td>NaN</td>\n",
       "      <td>MOTOR COMPREHENSIVE</td>\n",
       "      <td>MOTORCYCLES</td>\n",
       "      <td>PRIVATE</td>\n",
       "      <td>NaN</td>\n",
       "      <td>0</td>\n",
       "      <td>3973.60</td>\n",
       "      <td>0.00</td>\n",
       "    </tr>\n",
       "    <tr>\n",
       "      <th>1</th>\n",
       "      <td>NaN</td>\n",
       "      <td>MOTOR COMPREHENSIVE</td>\n",
       "      <td>MOTOR OWN GOODS</td>\n",
       "      <td>PRIVATE</td>\n",
       "      <td>NaN</td>\n",
       "      <td>0</td>\n",
       "      <td>16663.78</td>\n",
       "      <td>0.00</td>\n",
       "    </tr>\n",
       "    <tr>\n",
       "      <th>2</th>\n",
       "      <td>NaN</td>\n",
       "      <td>MOTOR COMPREHENSIVE</td>\n",
       "      <td>MOTOR PRIVATE CORPORATE</td>\n",
       "      <td>PRIVATE</td>\n",
       "      <td>NISSAN SUNNY</td>\n",
       "      <td>0</td>\n",
       "      <td>479527.55</td>\n",
       "      <td>28141.72</td>\n",
       "    </tr>\n",
       "    <tr>\n",
       "      <th>3</th>\n",
       "      <td>NaN</td>\n",
       "      <td>MOTOR COMPREHENSIVE</td>\n",
       "      <td>MOTOR OWN GOODS</td>\n",
       "      <td>PRIVATE</td>\n",
       "      <td>NaN</td>\n",
       "      <td>0</td>\n",
       "      <td>63460.28</td>\n",
       "      <td>0.00</td>\n",
       "    </tr>\n",
       "    <tr>\n",
       "      <th>4</th>\n",
       "      <td>NaN</td>\n",
       "      <td>MOTOR COMPREHENSIVE</td>\n",
       "      <td>MOTOR PRIVATE CORPORATE</td>\n",
       "      <td>PRIVATE</td>\n",
       "      <td>NaN</td>\n",
       "      <td>0</td>\n",
       "      <td>894.99</td>\n",
       "      <td>0.00</td>\n",
       "    </tr>\n",
       "  </tbody>\n",
       "</table>\n",
       "</div>"
      ],
      "text/plain": [
       "   Unnamed: 0           COVER TYPE             PRODUCT TYPE VEHICLE USE  \\\n",
       "0         NaN  MOTOR COMPREHENSIVE              MOTORCYCLES     PRIVATE   \n",
       "1         NaN  MOTOR COMPREHENSIVE          MOTOR OWN GOODS     PRIVATE   \n",
       "2         NaN  MOTOR COMPREHENSIVE  MOTOR PRIVATE CORPORATE     PRIVATE   \n",
       "3         NaN  MOTOR COMPREHENSIVE          MOTOR OWN GOODS     PRIVATE   \n",
       "4         NaN  MOTOR COMPREHENSIVE  MOTOR PRIVATE CORPORATE     PRIVATE   \n",
       "\n",
       "            MAKE  POLICY STATUS  PREMIUM PAID  TOTAL CLAIMS PAID ON POLICY  \n",
       "0            NaN              0       3973.60                         0.00  \n",
       "1            NaN              0      16663.78                         0.00  \n",
       "2  NISSAN SUNNY               0     479527.55                     28141.72  \n",
       "3            NaN              0      63460.28                         0.00  \n",
       "4            NaN              0        894.99                         0.00  "
      ]
     },
     "execution_count": 57,
     "metadata": {},
     "output_type": "execute_result"
    }
   ],
   "source": [
    "data.head()"
   ]
  },
  {
   "cell_type": "markdown",
   "id": "71aaf968",
   "metadata": {},
   "source": [
    "# Preliminary Data Cleaning"
   ]
  },
  {
   "cell_type": "markdown",
   "id": "523c1daa",
   "metadata": {},
   "source": [
    "Dropping unnecessary columns"
   ]
  },
  {
   "cell_type": "code",
   "execution_count": 58,
   "id": "d0d21b2e",
   "metadata": {},
   "outputs": [
    {
     "data": {
      "text/plain": [
       "Index(['Unnamed: 0', 'COVER TYPE', 'PRODUCT TYPE', 'VEHICLE USE', 'MAKE',\n",
       "       'POLICY STATUS', 'PREMIUM PAID', 'TOTAL CLAIMS PAID ON POLICY'],\n",
       "      dtype='object')"
      ]
     },
     "execution_count": 58,
     "metadata": {},
     "output_type": "execute_result"
    }
   ],
   "source": [
    "data.columns"
   ]
  },
  {
   "cell_type": "code",
   "execution_count": 59,
   "id": "54d96186",
   "metadata": {},
   "outputs": [
    {
     "data": {
      "text/html": [
       "<div>\n",
       "<style scoped>\n",
       "    .dataframe tbody tr th:only-of-type {\n",
       "        vertical-align: middle;\n",
       "    }\n",
       "\n",
       "    .dataframe tbody tr th {\n",
       "        vertical-align: top;\n",
       "    }\n",
       "\n",
       "    .dataframe thead th {\n",
       "        text-align: right;\n",
       "    }\n",
       "</style>\n",
       "<table border=\"1\" class=\"dataframe\">\n",
       "  <thead>\n",
       "    <tr style=\"text-align: right;\">\n",
       "      <th></th>\n",
       "      <th>COVER TYPE</th>\n",
       "      <th>PRODUCT TYPE</th>\n",
       "      <th>VEHICLE USE</th>\n",
       "      <th>MAKE</th>\n",
       "      <th>PREMIUM PAID</th>\n",
       "      <th>TOTAL CLAIMS PAID ON POLICY</th>\n",
       "    </tr>\n",
       "  </thead>\n",
       "  <tbody>\n",
       "    <tr>\n",
       "      <th>0</th>\n",
       "      <td>MOTOR COMPREHENSIVE</td>\n",
       "      <td>MOTORCYCLES</td>\n",
       "      <td>PRIVATE</td>\n",
       "      <td>NaN</td>\n",
       "      <td>3973.60</td>\n",
       "      <td>0.00</td>\n",
       "    </tr>\n",
       "    <tr>\n",
       "      <th>1</th>\n",
       "      <td>MOTOR COMPREHENSIVE</td>\n",
       "      <td>MOTOR OWN GOODS</td>\n",
       "      <td>PRIVATE</td>\n",
       "      <td>NaN</td>\n",
       "      <td>16663.78</td>\n",
       "      <td>0.00</td>\n",
       "    </tr>\n",
       "    <tr>\n",
       "      <th>2</th>\n",
       "      <td>MOTOR COMPREHENSIVE</td>\n",
       "      <td>MOTOR PRIVATE CORPORATE</td>\n",
       "      <td>PRIVATE</td>\n",
       "      <td>NISSAN SUNNY</td>\n",
       "      <td>479527.55</td>\n",
       "      <td>28141.72</td>\n",
       "    </tr>\n",
       "    <tr>\n",
       "      <th>3</th>\n",
       "      <td>MOTOR COMPREHENSIVE</td>\n",
       "      <td>MOTOR OWN GOODS</td>\n",
       "      <td>PRIVATE</td>\n",
       "      <td>NaN</td>\n",
       "      <td>63460.28</td>\n",
       "      <td>0.00</td>\n",
       "    </tr>\n",
       "    <tr>\n",
       "      <th>4</th>\n",
       "      <td>MOTOR COMPREHENSIVE</td>\n",
       "      <td>MOTOR PRIVATE CORPORATE</td>\n",
       "      <td>PRIVATE</td>\n",
       "      <td>NaN</td>\n",
       "      <td>894.99</td>\n",
       "      <td>0.00</td>\n",
       "    </tr>\n",
       "  </tbody>\n",
       "</table>\n",
       "</div>"
      ],
      "text/plain": [
       "            COVER TYPE             PRODUCT TYPE VEHICLE USE           MAKE  \\\n",
       "0  MOTOR COMPREHENSIVE              MOTORCYCLES     PRIVATE            NaN   \n",
       "1  MOTOR COMPREHENSIVE          MOTOR OWN GOODS     PRIVATE            NaN   \n",
       "2  MOTOR COMPREHENSIVE  MOTOR PRIVATE CORPORATE     PRIVATE  NISSAN SUNNY    \n",
       "3  MOTOR COMPREHENSIVE          MOTOR OWN GOODS     PRIVATE            NaN   \n",
       "4  MOTOR COMPREHENSIVE  MOTOR PRIVATE CORPORATE     PRIVATE            NaN   \n",
       "\n",
       "   PREMIUM PAID  TOTAL CLAIMS PAID ON POLICY  \n",
       "0       3973.60                         0.00  \n",
       "1      16663.78                         0.00  \n",
       "2     479527.55                     28141.72  \n",
       "3      63460.28                         0.00  \n",
       "4        894.99                         0.00  "
      ]
     },
     "execution_count": 59,
     "metadata": {},
     "output_type": "execute_result"
    }
   ],
   "source": [
    "data=data.drop(columns=['Unnamed: 0','POLICY STATUS'])\n",
    "data.head()"
   ]
  },
  {
   "cell_type": "markdown",
   "id": "3cc7752f",
   "metadata": {},
   "source": [
    "Number of unique value from all object datatype"
   ]
  },
  {
   "cell_type": "code",
   "execution_count": 60,
   "id": "ca981df9",
   "metadata": {},
   "outputs": [
    {
     "data": {
      "text/plain": [
       "COVER TYPE        2\n",
       "PRODUCT TYPE     16\n",
       "VEHICLE USE       2\n",
       "MAKE            905\n",
       "dtype: int64"
      ]
     },
     "execution_count": 60,
     "metadata": {},
     "output_type": "execute_result"
    }
   ],
   "source": [
    "data.select_dtypes(include='object').nunique()"
   ]
  },
  {
   "cell_type": "markdown",
   "id": "fe8bb894",
   "metadata": {},
   "source": [
    "Shape of the dataset"
   ]
  },
  {
   "cell_type": "code",
   "execution_count": 61,
   "id": "dfe92843",
   "metadata": {},
   "outputs": [
    {
     "data": {
      "text/plain": [
       "(36654, 6)"
      ]
     },
     "execution_count": 61,
     "metadata": {},
     "output_type": "execute_result"
    }
   ],
   "source": [
    "data.shape"
   ]
  },
  {
   "cell_type": "code",
   "execution_count": 62,
   "id": "97350846",
   "metadata": {},
   "outputs": [],
   "source": [
    "#We have 6 columns and 36654 "
   ]
  },
  {
   "cell_type": "markdown",
   "id": "6b869019",
   "metadata": {},
   "source": [
    "# Dealing with Missing Values"
   ]
  },
  {
   "cell_type": "code",
   "execution_count": 63,
   "id": "dce7a5ec",
   "metadata": {},
   "outputs": [
    {
     "data": {
      "text/plain": [
       "COVER TYPE                     0.00\n",
       "PRODUCT TYPE                   0.00\n",
       "VEHICLE USE                    0.00\n",
       "MAKE                          94.93\n",
       "PREMIUM PAID                   0.00\n",
       "TOTAL CLAIMS PAID ON POLICY    0.00\n",
       "dtype: float64"
      ]
     },
     "execution_count": 63,
     "metadata": {},
     "output_type": "execute_result"
    }
   ],
   "source": [
    "#Check the amount of missing value\n",
    "missing=data.isnull().sum()*100/data.shape[0]\n",
    "missing"
   ]
  },
  {
   "cell_type": "markdown",
   "id": "dea5c061",
   "metadata": {},
   "source": [
    "Comment\\\n",
    "About 95% of the values in MAKE are missing\\\n",
    "So we simply drop that feature since we don't have enough information to ascertain anything useful\n"
   ]
  },
  {
   "cell_type": "code",
   "execution_count": 64,
   "id": "4feb60a9",
   "metadata": {},
   "outputs": [],
   "source": [
    "# Drop MAKE\n",
    "data=data.drop(columns='MAKE')"
   ]
  },
  {
   "cell_type": "code",
   "execution_count": 65,
   "id": "d68ff4e1",
   "metadata": {},
   "outputs": [
    {
     "data": {
      "text/html": [
       "<div>\n",
       "<style scoped>\n",
       "    .dataframe tbody tr th:only-of-type {\n",
       "        vertical-align: middle;\n",
       "    }\n",
       "\n",
       "    .dataframe tbody tr th {\n",
       "        vertical-align: top;\n",
       "    }\n",
       "\n",
       "    .dataframe thead th {\n",
       "        text-align: right;\n",
       "    }\n",
       "</style>\n",
       "<table border=\"1\" class=\"dataframe\">\n",
       "  <thead>\n",
       "    <tr style=\"text-align: right;\">\n",
       "      <th></th>\n",
       "      <th>COVER TYPE</th>\n",
       "      <th>PRODUCT TYPE</th>\n",
       "      <th>VEHICLE USE</th>\n",
       "      <th>PREMIUM PAID</th>\n",
       "      <th>TOTAL CLAIMS PAID ON POLICY</th>\n",
       "    </tr>\n",
       "  </thead>\n",
       "  <tbody>\n",
       "    <tr>\n",
       "      <th>0</th>\n",
       "      <td>MOTOR COMPREHENSIVE</td>\n",
       "      <td>MOTORCYCLES</td>\n",
       "      <td>PRIVATE</td>\n",
       "      <td>3973.60</td>\n",
       "      <td>0.00</td>\n",
       "    </tr>\n",
       "    <tr>\n",
       "      <th>1</th>\n",
       "      <td>MOTOR COMPREHENSIVE</td>\n",
       "      <td>MOTOR OWN GOODS</td>\n",
       "      <td>PRIVATE</td>\n",
       "      <td>16663.78</td>\n",
       "      <td>0.00</td>\n",
       "    </tr>\n",
       "    <tr>\n",
       "      <th>2</th>\n",
       "      <td>MOTOR COMPREHENSIVE</td>\n",
       "      <td>MOTOR PRIVATE CORPORATE</td>\n",
       "      <td>PRIVATE</td>\n",
       "      <td>479527.55</td>\n",
       "      <td>28141.72</td>\n",
       "    </tr>\n",
       "    <tr>\n",
       "      <th>3</th>\n",
       "      <td>MOTOR COMPREHENSIVE</td>\n",
       "      <td>MOTOR OWN GOODS</td>\n",
       "      <td>PRIVATE</td>\n",
       "      <td>63460.28</td>\n",
       "      <td>0.00</td>\n",
       "    </tr>\n",
       "    <tr>\n",
       "      <th>4</th>\n",
       "      <td>MOTOR COMPREHENSIVE</td>\n",
       "      <td>MOTOR PRIVATE CORPORATE</td>\n",
       "      <td>PRIVATE</td>\n",
       "      <td>894.99</td>\n",
       "      <td>0.00</td>\n",
       "    </tr>\n",
       "  </tbody>\n",
       "</table>\n",
       "</div>"
      ],
      "text/plain": [
       "            COVER TYPE             PRODUCT TYPE VEHICLE USE  PREMIUM PAID  \\\n",
       "0  MOTOR COMPREHENSIVE              MOTORCYCLES     PRIVATE       3973.60   \n",
       "1  MOTOR COMPREHENSIVE          MOTOR OWN GOODS     PRIVATE      16663.78   \n",
       "2  MOTOR COMPREHENSIVE  MOTOR PRIVATE CORPORATE     PRIVATE     479527.55   \n",
       "3  MOTOR COMPREHENSIVE          MOTOR OWN GOODS     PRIVATE      63460.28   \n",
       "4  MOTOR COMPREHENSIVE  MOTOR PRIVATE CORPORATE     PRIVATE        894.99   \n",
       "\n",
       "   TOTAL CLAIMS PAID ON POLICY  \n",
       "0                         0.00  \n",
       "1                         0.00  \n",
       "2                     28141.72  \n",
       "3                         0.00  \n",
       "4                         0.00  "
      ]
     },
     "execution_count": 65,
     "metadata": {},
     "output_type": "execute_result"
    }
   ],
   "source": [
    "data.head()"
   ]
  },
  {
   "cell_type": "markdown",
   "id": "2bcab80d",
   "metadata": {},
   "source": [
    "# Exploratory Data Analysis"
   ]
  },
  {
   "cell_type": "markdown",
   "id": "d9bae569",
   "metadata": {},
   "source": [
    "Categorical Feature"
   ]
  },
  {
   "cell_type": "code",
   "execution_count": 66,
   "id": "a7f0e3d9",
   "metadata": {},
   "outputs": [
    {
     "data": {
      "image/png": "[encoded data removed]",
      "text/plain": [
       "<Figure size 1080x576 with 3 Axes>"
      ]
     },
     "metadata": {},
     "output_type": "display_data"
    }
   ],
   "source": [
    "#Get names of all categorical feature\n",
    "\n",
    "cat=data.select_dtypes(include='object').columns.tolist()\n",
    "\n",
    "# Create a figure with subplots\n",
    "\n",
    "num_cols=len(cat)\n",
    "num_rows=(num_cols+2)//3\n",
    "fig,axes=plt.subplots(nrows=num_rows,ncols=3,figsize=(15,8*num_rows))\n",
    "axes=axes.flatten()\n",
    "\n",
    "# Create a countplot for the top 6  values \n",
    "for i, var in enumerate(cat):\n",
    "    top_values=data[var].value_counts().nlargest(6).index\n",
    "    filtered_data=data[data[var].isin(top_values)]\n",
    "    sns.countplot(x=var,data=filtered_data,ax=axes[i])\n",
    "    axes[i].set_title(var)\n",
    "    axes[i].tick_params(axis='x',rotation=90)\n",
    "    \n",
    "# Remove any extra empty subplots if needed\n",
    "if num_cols < len(axes):\n",
    "    for i in range(num_cols,len(axes)):\n",
    "        fig.delaxes(axes[i])\n",
    "        \n",
    "# Adjust spacing  between subplots\n",
    "fig.tight_layout()\n",
    "\n",
    "# Show plot\n",
    "plt.show()"
   ]
  },
  {
   "cell_type": "markdown",
   "id": "7d4f87ee",
   "metadata": {},
   "source": [
    "Comment\\\n",
    "With COVER TYPE, we can see that most of insurance made were that\\\n",
    "of the Motor third party\n",
    "\n",
    "Almost all the cars insured were vehicles for Private use and because of this,\\\n",
    "Motor Private Individual was the most out of the various product types\n",
    "\n",
    "So the probability of  Private vehicles is higher as compared to commercial vehicles\\\n",
    "Esmie you can add more \n",
    "\n"
   ]
  },
  {
   "cell_type": "code",
   "execution_count": null,
   "id": "3359a996",
   "metadata": {},
   "outputs": [],
   "source": []
  },
  {
   "cell_type": "code",
   "execution_count": 67,
   "id": "686cac9e",
   "metadata": {},
   "outputs": [
    {
     "data": {
      "text/html": [
       "<div>\n",
       "<style scoped>\n",
       "    .dataframe tbody tr th:only-of-type {\n",
       "        vertical-align: middle;\n",
       "    }\n",
       "\n",
       "    .dataframe tbody tr th {\n",
       "        vertical-align: top;\n",
       "    }\n",
       "\n",
       "    .dataframe thead th {\n",
       "        text-align: right;\n",
       "    }\n",
       "</style>\n",
       "<table border=\"1\" class=\"dataframe\">\n",
       "  <thead>\n",
       "    <tr style=\"text-align: right;\">\n",
       "      <th></th>\n",
       "      <th>COVER TYPE</th>\n",
       "      <th>MOTOR COMPREHENSIVE</th>\n",
       "      <th>MOTOR THIRD PARTY</th>\n",
       "    </tr>\n",
       "  </thead>\n",
       "  <tbody>\n",
       "    <tr>\n",
       "      <th rowspan=\"8\" valign=\"top\">PREMIUM PAID</th>\n",
       "      <th>count</th>\n",
       "      <td>7569.00</td>\n",
       "      <td>29085.00</td>\n",
       "    </tr>\n",
       "    <tr>\n",
       "      <th>mean</th>\n",
       "      <td>7614.35</td>\n",
       "      <td>408.80</td>\n",
       "    </tr>\n",
       "    <tr>\n",
       "      <th>std</th>\n",
       "      <td>41764.53</td>\n",
       "      <td>1384.46</td>\n",
       "    </tr>\n",
       "    <tr>\n",
       "      <th>min</th>\n",
       "      <td>-20195.00</td>\n",
       "      <td>-7273.75</td>\n",
       "    </tr>\n",
       "    <tr>\n",
       "      <th>25%</th>\n",
       "      <td>1002.00</td>\n",
       "      <td>215.00</td>\n",
       "    </tr>\n",
       "    <tr>\n",
       "      <th>50%</th>\n",
       "      <td>1957.00</td>\n",
       "      <td>327.00</td>\n",
       "    </tr>\n",
       "    <tr>\n",
       "      <th>75%</th>\n",
       "      <td>5194.50</td>\n",
       "      <td>402.00</td>\n",
       "    </tr>\n",
       "    <tr>\n",
       "      <th>max</th>\n",
       "      <td>1890559.28</td>\n",
       "      <td>93053.61</td>\n",
       "    </tr>\n",
       "    <tr>\n",
       "      <th rowspan=\"8\" valign=\"top\">TOTAL CLAIMS PAID ON POLICY</th>\n",
       "      <th>count</th>\n",
       "      <td>7569.00</td>\n",
       "      <td>29085.00</td>\n",
       "    </tr>\n",
       "    <tr>\n",
       "      <th>mean</th>\n",
       "      <td>6444.82</td>\n",
       "      <td>172.96</td>\n",
       "    </tr>\n",
       "    <tr>\n",
       "      <th>std</th>\n",
       "      <td>50809.61</td>\n",
       "      <td>7773.45</td>\n",
       "    </tr>\n",
       "    <tr>\n",
       "      <th>min</th>\n",
       "      <td>0.00</td>\n",
       "      <td>0.00</td>\n",
       "    </tr>\n",
       "    <tr>\n",
       "      <th>25%</th>\n",
       "      <td>0.00</td>\n",
       "      <td>0.00</td>\n",
       "    </tr>\n",
       "    <tr>\n",
       "      <th>50%</th>\n",
       "      <td>0.00</td>\n",
       "      <td>0.00</td>\n",
       "    </tr>\n",
       "    <tr>\n",
       "      <th>75%</th>\n",
       "      <td>571.83</td>\n",
       "      <td>0.00</td>\n",
       "    </tr>\n",
       "    <tr>\n",
       "      <th>max</th>\n",
       "      <td>1397975.68</td>\n",
       "      <td>772317.07</td>\n",
       "    </tr>\n",
       "  </tbody>\n",
       "</table>\n",
       "</div>"
      ],
      "text/plain": [
       "COVER TYPE                         MOTOR COMPREHENSIVE  MOTOR THIRD PARTY\n",
       "PREMIUM PAID                count              7569.00           29085.00\n",
       "                            mean               7614.35             408.80\n",
       "                            std               41764.53            1384.46\n",
       "                            min              -20195.00           -7273.75\n",
       "                            25%                1002.00             215.00\n",
       "                            50%                1957.00             327.00\n",
       "                            75%                5194.50             402.00\n",
       "                            max             1890559.28           93053.61\n",
       "TOTAL CLAIMS PAID ON POLICY count              7569.00           29085.00\n",
       "                            mean               6444.82             172.96\n",
       "                            std               50809.61            7773.45\n",
       "                            min                   0.00               0.00\n",
       "                            25%                   0.00               0.00\n",
       "                            50%                   0.00               0.00\n",
       "                            75%                 571.83               0.00\n",
       "                            max             1397975.68          772317.07"
      ]
     },
     "execution_count": 67,
     "metadata": {},
     "output_type": "execute_result"
    }
   ],
   "source": [
    "# Set the desired float formatting\n",
    "pd.set_option('display.float_format', '{:.2f}'.format)\n",
    "\n",
    "# describe the data in terms of cover type\n",
    "data.groupby('COVER TYPE').describe().T"
   ]
  },
  {
   "cell_type": "markdown",
   "id": "f754de7c",
   "metadata": {},
   "source": [
    "Comprehensive insurance has higher average premium paid than third party policyholders\\\n",
    "Total claims paid too is higher, on average, for comprehensive than third party"
   ]
  },
  {
   "cell_type": "code",
   "execution_count": null,
   "id": "83236287",
   "metadata": {},
   "outputs": [],
   "source": []
  },
  {
   "cell_type": "code",
   "execution_count": 68,
   "id": "e2750a98",
   "metadata": {},
   "outputs": [
    {
     "data": {
      "text/html": [
       "<div>\n",
       "<style scoped>\n",
       "    .dataframe tbody tr th:only-of-type {\n",
       "        vertical-align: middle;\n",
       "    }\n",
       "\n",
       "    .dataframe tbody tr th {\n",
       "        vertical-align: top;\n",
       "    }\n",
       "\n",
       "    .dataframe thead th {\n",
       "        text-align: right;\n",
       "    }\n",
       "</style>\n",
       "<table border=\"1\" class=\"dataframe\">\n",
       "  <thead>\n",
       "    <tr style=\"text-align: right;\">\n",
       "      <th></th>\n",
       "      <th>VEHICLE USE</th>\n",
       "      <th>COMMERCIAL</th>\n",
       "      <th>PRIVATE</th>\n",
       "    </tr>\n",
       "  </thead>\n",
       "  <tbody>\n",
       "    <tr>\n",
       "      <th rowspan=\"8\" valign=\"top\">PREMIUM PAID</th>\n",
       "      <th>count</th>\n",
       "      <td>5263.00</td>\n",
       "      <td>31391.00</td>\n",
       "    </tr>\n",
       "    <tr>\n",
       "      <th>mean</th>\n",
       "      <td>1315.20</td>\n",
       "      <td>1994.23</td>\n",
       "    </tr>\n",
       "    <tr>\n",
       "      <th>std</th>\n",
       "      <td>3769.81</td>\n",
       "      <td>20731.60</td>\n",
       "    </tr>\n",
       "    <tr>\n",
       "      <th>min</th>\n",
       "      <td>-1866.38</td>\n",
       "      <td>-20195.00</td>\n",
       "    </tr>\n",
       "    <tr>\n",
       "      <th>25%</th>\n",
       "      <td>438.00</td>\n",
       "      <td>225.00</td>\n",
       "    </tr>\n",
       "    <tr>\n",
       "      <th>50%</th>\n",
       "      <td>503.00</td>\n",
       "      <td>327.00</td>\n",
       "    </tr>\n",
       "    <tr>\n",
       "      <th>75%</th>\n",
       "      <td>600.00</td>\n",
       "      <td>516.50</td>\n",
       "    </tr>\n",
       "    <tr>\n",
       "      <th>max</th>\n",
       "      <td>72917.00</td>\n",
       "      <td>1890559.28</td>\n",
       "    </tr>\n",
       "    <tr>\n",
       "      <th rowspan=\"8\" valign=\"top\">TOTAL CLAIMS PAID ON POLICY</th>\n",
       "      <th>count</th>\n",
       "      <td>5263.00</td>\n",
       "      <td>31391.00</td>\n",
       "    </tr>\n",
       "    <tr>\n",
       "      <th>mean</th>\n",
       "      <td>403.78</td>\n",
       "      <td>1646.54</td>\n",
       "    </tr>\n",
       "    <tr>\n",
       "      <th>std</th>\n",
       "      <td>5105.30</td>\n",
       "      <td>26102.49</td>\n",
       "    </tr>\n",
       "    <tr>\n",
       "      <th>min</th>\n",
       "      <td>0.00</td>\n",
       "      <td>0.00</td>\n",
       "    </tr>\n",
       "    <tr>\n",
       "      <th>25%</th>\n",
       "      <td>0.00</td>\n",
       "      <td>0.00</td>\n",
       "    </tr>\n",
       "    <tr>\n",
       "      <th>50%</th>\n",
       "      <td>0.00</td>\n",
       "      <td>0.00</td>\n",
       "    </tr>\n",
       "    <tr>\n",
       "      <th>75%</th>\n",
       "      <td>0.00</td>\n",
       "      <td>0.00</td>\n",
       "    </tr>\n",
       "    <tr>\n",
       "      <th>max</th>\n",
       "      <td>188920.00</td>\n",
       "      <td>1397975.68</td>\n",
       "    </tr>\n",
       "  </tbody>\n",
       "</table>\n",
       "</div>"
      ],
      "text/plain": [
       "VEHICLE USE                        COMMERCIAL    PRIVATE\n",
       "PREMIUM PAID                count     5263.00   31391.00\n",
       "                            mean      1315.20    1994.23\n",
       "                            std       3769.81   20731.60\n",
       "                            min      -1866.38  -20195.00\n",
       "                            25%        438.00     225.00\n",
       "                            50%        503.00     327.00\n",
       "                            75%        600.00     516.50\n",
       "                            max      72917.00 1890559.28\n",
       "TOTAL CLAIMS PAID ON POLICY count     5263.00   31391.00\n",
       "                            mean       403.78    1646.54\n",
       "                            std       5105.30   26102.49\n",
       "                            min          0.00       0.00\n",
       "                            25%          0.00       0.00\n",
       "                            50%          0.00       0.00\n",
       "                            75%          0.00       0.00\n",
       "                            max     188920.00 1397975.68"
      ]
     },
     "execution_count": 68,
     "metadata": {},
     "output_type": "execute_result"
    }
   ],
   "source": [
    "# describe the data in terms of vehicle use\n",
    "data.groupby('VEHICLE USE').describe().T"
   ]
  },
  {
   "cell_type": "markdown",
   "id": "79fb648d",
   "metadata": {},
   "source": [
    "Private vehicles pay more premiums and claims, on average, as compared to commercial vehicles.\\\n",
    "The expected probability of a private vehicle policyholder making a claim is 6% while it is 3%\\\n",
    "for commercial policyholders.\n",
    "\n",
    "MOTOR PRIVATE CORPORATE has the highest average premium paid of 10234.34,\\\n",
    "followed by MOTOR SPECIAL TYPE ON ROAD with 8016.18. For average claims,\\\n",
    "MOTOR PRIVATE CORPORATE tops with 5868.97 followed by MOTOR OWN GOODS of 4317.81.\\\n",
    "MOTOR HIRING has the highest claim probability of 21% followed by MOTOR PRIVATE CORPORATE with 15% and MACHINERY BREAKDOWN and\\ MOTOR AMBULANCE AND HEARSE have the least with 0%"
   ]
  },
  {
   "cell_type": "markdown",
   "id": "4ce7f26e",
   "metadata": {},
   "source": [
    "Numerical Feature"
   ]
  },
  {
   "cell_type": "code",
   "execution_count": 69,
   "id": "72bd24fd",
   "metadata": {},
   "outputs": [
    {
     "data": {
      "image/png": "[encoded data removed]",
      "text/plain": [
       "<Figure size 1080x360 with 2 Axes>"
      ]
     },
     "metadata": {},
     "output_type": "display_data"
    }
   ],
   "source": [
    "#Get names of all numerical feature\n",
    "\n",
    "num_vars=data.select_dtypes(include=['int','float']).columns.tolist()\n",
    "#exclude_vars=['Health status']\n",
    "#num_vars=[var for var in num_vars if var not in exclude_vars]\n",
    "\n",
    "# Create a figure with subplots\n",
    "\n",
    "num_cols=len(num_vars)\n",
    "num_rows=(num_cols+2)//3\n",
    "fig,axes=plt.subplots(nrows=num_rows,ncols=3,figsize=(15,5*num_rows))\n",
    "axes=axes.flatten()\n",
    "\n",
    "# Create a countplot for the top 6  values \n",
    "for i, var in enumerate(num_vars):\n",
    "    sns.boxplot(x=data[var],ax=axes[i])\n",
    "    axes[i].set_title(var)\n",
    "    \n",
    "# Remove any extra empty subplots if needed\n",
    "if num_cols < len(axes):\n",
    "    for i in range(num_cols,len(axes)):\n",
    "        fig.delaxes(axes[i])\n",
    "        \n",
    "# Adjust spacing  between subplots\n",
    "fig.tight_layout()\n",
    "\n",
    "# Show plot\n",
    "#plt.show()\n",
    "    "
   ]
  },
  {
   "cell_type": "markdown",
   "id": "fbc0ee90",
   "metadata": {},
   "source": [
    "Comment\\\n",
    "So Esmie here, you can talk about the outliers and other stuff"
   ]
  },
  {
   "cell_type": "markdown",
   "id": "d3524ab6",
   "metadata": {},
   "source": [
    "# Model Purpose Transformation"
   ]
  },
  {
   "cell_type": "markdown",
   "id": "3e17df6c",
   "metadata": {},
   "source": [
    "Since our project aim is to be able to tell if an individual\\\n",
    "will make a claim or not, we have to categorize 'TOTAL CLAIMS PAID ON POLICY'"
   ]
  },
  {
   "cell_type": "code",
   "execution_count": 70,
   "id": "a5e51460",
   "metadata": {},
   "outputs": [],
   "source": [
    "data['TOTAL CLAIMS PAID ON POLICY'] = data['TOTAL CLAIMS PAID ON POLICY'].map(lambda val:1 if val!=0 else 0)"
   ]
  },
  {
   "cell_type": "code",
   "execution_count": 71,
   "id": "abda77da",
   "metadata": {},
   "outputs": [
    {
     "data": {
      "text/html": [
       "<div>\n",
       "<style scoped>\n",
       "    .dataframe tbody tr th:only-of-type {\n",
       "        vertical-align: middle;\n",
       "    }\n",
       "\n",
       "    .dataframe tbody tr th {\n",
       "        vertical-align: top;\n",
       "    }\n",
       "\n",
       "    .dataframe thead th {\n",
       "        text-align: right;\n",
       "    }\n",
       "</style>\n",
       "<table border=\"1\" class=\"dataframe\">\n",
       "  <thead>\n",
       "    <tr style=\"text-align: right;\">\n",
       "      <th></th>\n",
       "      <th>COVER TYPE</th>\n",
       "      <th>PRODUCT TYPE</th>\n",
       "      <th>VEHICLE USE</th>\n",
       "      <th>PREMIUM PAID</th>\n",
       "      <th>TOTAL CLAIMS PAID ON POLICY</th>\n",
       "    </tr>\n",
       "  </thead>\n",
       "  <tbody>\n",
       "    <tr>\n",
       "      <th>0</th>\n",
       "      <td>MOTOR COMPREHENSIVE</td>\n",
       "      <td>MOTORCYCLES</td>\n",
       "      <td>PRIVATE</td>\n",
       "      <td>3973.60</td>\n",
       "      <td>0</td>\n",
       "    </tr>\n",
       "    <tr>\n",
       "      <th>1</th>\n",
       "      <td>MOTOR COMPREHENSIVE</td>\n",
       "      <td>MOTOR OWN GOODS</td>\n",
       "      <td>PRIVATE</td>\n",
       "      <td>16663.78</td>\n",
       "      <td>0</td>\n",
       "    </tr>\n",
       "    <tr>\n",
       "      <th>2</th>\n",
       "      <td>MOTOR COMPREHENSIVE</td>\n",
       "      <td>MOTOR PRIVATE CORPORATE</td>\n",
       "      <td>PRIVATE</td>\n",
       "      <td>479527.55</td>\n",
       "      <td>1</td>\n",
       "    </tr>\n",
       "    <tr>\n",
       "      <th>3</th>\n",
       "      <td>MOTOR COMPREHENSIVE</td>\n",
       "      <td>MOTOR OWN GOODS</td>\n",
       "      <td>PRIVATE</td>\n",
       "      <td>63460.28</td>\n",
       "      <td>0</td>\n",
       "    </tr>\n",
       "    <tr>\n",
       "      <th>4</th>\n",
       "      <td>MOTOR COMPREHENSIVE</td>\n",
       "      <td>MOTOR PRIVATE CORPORATE</td>\n",
       "      <td>PRIVATE</td>\n",
       "      <td>894.99</td>\n",
       "      <td>0</td>\n",
       "    </tr>\n",
       "  </tbody>\n",
       "</table>\n",
       "</div>"
      ],
      "text/plain": [
       "            COVER TYPE             PRODUCT TYPE VEHICLE USE  PREMIUM PAID  \\\n",
       "0  MOTOR COMPREHENSIVE              MOTORCYCLES     PRIVATE       3973.60   \n",
       "1  MOTOR COMPREHENSIVE          MOTOR OWN GOODS     PRIVATE      16663.78   \n",
       "2  MOTOR COMPREHENSIVE  MOTOR PRIVATE CORPORATE     PRIVATE     479527.55   \n",
       "3  MOTOR COMPREHENSIVE          MOTOR OWN GOODS     PRIVATE      63460.28   \n",
       "4  MOTOR COMPREHENSIVE  MOTOR PRIVATE CORPORATE     PRIVATE        894.99   \n",
       "\n",
       "   TOTAL CLAIMS PAID ON POLICY  \n",
       "0                            0  \n",
       "1                            0  \n",
       "2                            1  \n",
       "3                            0  \n",
       "4                            0  "
      ]
     },
     "execution_count": 71,
     "metadata": {},
     "output_type": "execute_result"
    }
   ],
   "source": [
    "data.head()"
   ]
  },
  {
   "cell_type": "markdown",
   "id": "6a489ed3",
   "metadata": {},
   "source": [
    "# Label Encoding"
   ]
  },
  {
   "cell_type": "code",
   "execution_count": 72,
   "id": "303e8cdf",
   "metadata": {},
   "outputs": [
    {
     "name": "stdout",
     "output_type": "stream",
     "text": [
      "COVER TYPE:['MOTOR COMPREHENSIVE' 'MOTOR THIRD PARTY']\n",
      "PRODUCT TYPE:['MOTORCYCLES' 'MOTOR OWN GOODS' 'MOTOR PRIVATE CORPORATE'\n",
      " 'MOTOR PRIVATE INDIVIDUAL' 'MOTOR TRADE PLATE' 'MOTOR TAXI'\n",
      " 'MOTOR FIRE AND THEFT' 'MOTOR MINI BUS' 'MOTOR GENERAL CARTAGE'\n",
      " 'MOTOR MAXI BUS' 'MOTOR SPECIAL TYPE ON SITE' 'MOTOR ART AND TANKERS'\n",
      " 'MOTOR SPECIAL TYPE ON ROAD' 'MOTOR HIRING' 'MOTOR AMBULANCE AND HEARSE'\n",
      " 'MACHINERY BREAKDOWN']\n",
      "VEHICLE USE:['PRIVATE' 'COMMERCIAL']\n"
     ]
    }
   ],
   "source": [
    "for col in data.select_dtypes(include=['object']).columns:\n",
    "    print(f'{col}:{data[col].unique()}')"
   ]
  },
  {
   "cell_type": "code",
   "execution_count": 73,
   "id": "70753fae",
   "metadata": {},
   "outputs": [
    {
     "name": "stdout",
     "output_type": "stream",
     "text": [
      "COVER TYPE: [0 1]\n",
      "PRODUCT TYPE: [15  8  9 10 14 13  3  7  4  6 12  2 11  5  1  0]\n",
      "VEHICLE USE: [1 0]\n"
     ]
    }
   ],
   "source": [
    "from sklearn import preprocessing\n",
    "for col in data.select_dtypes(include=['object']).columns:\n",
    "    \n",
    "    label_encoder=preprocessing.LabelEncoder()\n",
    "    label_encoder.fit(data[col].unique())\n",
    "    data[col]=label_encoder.transform(data[col])\n",
    "    \n",
    "    print(f'{col}: {data[col].unique()}')"
   ]
  },
  {
   "cell_type": "markdown",
   "id": "4eaa5b88",
   "metadata": {},
   "source": [
    "Inspecting our transformed data"
   ]
  },
  {
   "cell_type": "code",
   "execution_count": 74,
   "id": "44cddc3d",
   "metadata": {},
   "outputs": [
    {
     "data": {
      "text/html": [
       "<div>\n",
       "<style scoped>\n",
       "    .dataframe tbody tr th:only-of-type {\n",
       "        vertical-align: middle;\n",
       "    }\n",
       "\n",
       "    .dataframe tbody tr th {\n",
       "        vertical-align: top;\n",
       "    }\n",
       "\n",
       "    .dataframe thead th {\n",
       "        text-align: right;\n",
       "    }\n",
       "</style>\n",
       "<table border=\"1\" class=\"dataframe\">\n",
       "  <thead>\n",
       "    <tr style=\"text-align: right;\">\n",
       "      <th></th>\n",
       "      <th>COVER TYPE</th>\n",
       "      <th>PRODUCT TYPE</th>\n",
       "      <th>VEHICLE USE</th>\n",
       "      <th>PREMIUM PAID</th>\n",
       "      <th>TOTAL CLAIMS PAID ON POLICY</th>\n",
       "    </tr>\n",
       "  </thead>\n",
       "  <tbody>\n",
       "    <tr>\n",
       "      <th>0</th>\n",
       "      <td>0</td>\n",
       "      <td>15</td>\n",
       "      <td>1</td>\n",
       "      <td>3973.60</td>\n",
       "      <td>0</td>\n",
       "    </tr>\n",
       "    <tr>\n",
       "      <th>1</th>\n",
       "      <td>0</td>\n",
       "      <td>8</td>\n",
       "      <td>1</td>\n",
       "      <td>16663.78</td>\n",
       "      <td>0</td>\n",
       "    </tr>\n",
       "    <tr>\n",
       "      <th>2</th>\n",
       "      <td>0</td>\n",
       "      <td>9</td>\n",
       "      <td>1</td>\n",
       "      <td>479527.55</td>\n",
       "      <td>1</td>\n",
       "    </tr>\n",
       "    <tr>\n",
       "      <th>3</th>\n",
       "      <td>0</td>\n",
       "      <td>8</td>\n",
       "      <td>1</td>\n",
       "      <td>63460.28</td>\n",
       "      <td>0</td>\n",
       "    </tr>\n",
       "    <tr>\n",
       "      <th>4</th>\n",
       "      <td>0</td>\n",
       "      <td>9</td>\n",
       "      <td>1</td>\n",
       "      <td>894.99</td>\n",
       "      <td>0</td>\n",
       "    </tr>\n",
       "  </tbody>\n",
       "</table>\n",
       "</div>"
      ],
      "text/plain": [
       "   COVER TYPE  PRODUCT TYPE  VEHICLE USE  PREMIUM PAID  \\\n",
       "0           0            15            1       3973.60   \n",
       "1           0             8            1      16663.78   \n",
       "2           0             9            1     479527.55   \n",
       "3           0             8            1      63460.28   \n",
       "4           0             9            1        894.99   \n",
       "\n",
       "   TOTAL CLAIMS PAID ON POLICY  \n",
       "0                            0  \n",
       "1                            0  \n",
       "2                            1  \n",
       "3                            0  \n",
       "4                            0  "
      ]
     },
     "execution_count": 74,
     "metadata": {},
     "output_type": "execute_result"
    }
   ],
   "source": [
    "data.head()"
   ]
  },
  {
   "cell_type": "markdown",
   "id": "fda315a7",
   "metadata": {},
   "source": [
    "# Correlation"
   ]
  },
  {
   "cell_type": "code",
   "execution_count": 75,
   "id": "27164933",
   "metadata": {},
   "outputs": [
    {
     "data": {
      "text/plain": [
       "<AxesSubplot:>"
      ]
     },
     "execution_count": 75,
     "metadata": {},
     "output_type": "execute_result"
    },
    {
     "data": {
      "image/png": "[encoded data removed]",
      "text/plain": [
       "<Figure size 1296x432 with 2 Axes>"
      ]
     },
     "metadata": {},
     "output_type": "display_data"
    }
   ],
   "source": [
    "correlation=data.corr()\n",
    "plt.figure(figsize=(18,6))\n",
    "sns.heatmap(correlation,annot=True,cmap='Blues')"
   ]
  },
  {
   "cell_type": "markdown",
   "id": "1dd1d5de",
   "metadata": {},
   "source": [
    "Comment\n",
    "\n",
    "Esmie I believe in you hahahaah"
   ]
  },
  {
   "cell_type": "code",
   "execution_count": 76,
   "id": "9cfb154c",
   "metadata": {},
   "outputs": [
    {
     "data": {
      "text/plain": [
       "<AxesSubplot:xlabel='TOTAL CLAIMS PAID ON POLICY', ylabel='count'>"
      ]
     },
     "execution_count": 76,
     "metadata": {},
     "output_type": "execute_result"
    },
    {
     "data": {
      "image/png": "[encoded data removed]",
      "text/plain": [
       "<Figure size 432x288 with 1 Axes>"
      ]
     },
     "metadata": {},
     "output_type": "display_data"
    }
   ],
   "source": [
    "sns.countplot(data['TOTAL CLAIMS PAID ON POLICY'])"
   ]
  },
  {
   "cell_type": "code",
   "execution_count": null,
   "id": "84000e7c",
   "metadata": {},
   "outputs": [],
   "source": []
  },
  {
   "cell_type": "markdown",
   "id": "e8b308a7",
   "metadata": {},
   "source": [
    "# Machine Learning"
   ]
  },
  {
   "cell_type": "markdown",
   "id": "9917b643",
   "metadata": {},
   "source": [
    "Balancing the data"
   ]
  },
  {
   "cell_type": "code",
   "execution_count": 77,
   "id": "7f741e1e",
   "metadata": {},
   "outputs": [
    {
     "data": {
      "text/plain": [
       "0    2500\n",
       "1    2158\n",
       "Name: TOTAL CLAIMS PAID ON POLICY, dtype: int64"
      ]
     },
     "execution_count": 77,
     "metadata": {},
     "output_type": "execute_result"
    }
   ],
   "source": [
    "# Undersampling\n",
    "from sklearn.utils import resample\n",
    "majority = data[data['TOTAL CLAIMS PAID ON POLICY']==0] # Majority class\n",
    "minority = data[data['TOTAL CLAIMS PAID ON POLICY']==1] # Minority class\n",
    "\n",
    "# Random selection without replacement\n",
    "majority_undersampled = resample(majority, replace=False, n_samples=2500, random_state=42) # Randomly selects 2500 records from majority to match minority class size\n",
    "\n",
    "# New downsampled dataset\n",
    "\n",
    "data = pd.concat([majority_undersampled,minority])  # Minority class + sample of 38 from majority\n",
    "data['TOTAL CLAIMS PAID ON POLICY'].value_counts()"
   ]
  },
  {
   "cell_type": "markdown",
   "id": "15ed5701",
   "metadata": {},
   "source": [
    "Splitting our data"
   ]
  },
  {
   "cell_type": "code",
   "execution_count": 78,
   "id": "174737f3",
   "metadata": {},
   "outputs": [],
   "source": [
    "from sklearn.model_selection import train_test_split"
   ]
  },
  {
   "cell_type": "markdown",
   "id": "0fd38ac1",
   "metadata": {},
   "source": [
    "Declaring our target variable and explanatory variables"
   ]
  },
  {
   "cell_type": "code",
   "execution_count": 79,
   "id": "ee07c0df",
   "metadata": {},
   "outputs": [
    {
     "data": {
      "text/plain": [
       "array([[  450.],\n",
       "       [ 1835.],\n",
       "       [  269.],\n",
       "       ...,\n",
       "       [ 2757.],\n",
       "       [19979.],\n",
       "       [18226.]])"
      ]
     },
     "execution_count": 79,
     "metadata": {},
     "output_type": "execute_result"
    }
   ],
   "source": [
    "X=np.array(data['PREMIUM PAID']).reshape(-1, 1)\n",
    "X"
   ]
  },
  {
   "cell_type": "code",
   "execution_count": 80,
   "id": "f899b16c",
   "metadata": {},
   "outputs": [
    {
     "data": {
      "text/plain": [
       "3444     0\n",
       "29357    0\n",
       "19003    0\n",
       "31969    0\n",
       "25079    0\n",
       "        ..\n",
       "36601    1\n",
       "36634    1\n",
       "36637    1\n",
       "36643    1\n",
       "36650    1\n",
       "Name: TOTAL CLAIMS PAID ON POLICY, Length: 4658, dtype: int64"
      ]
     },
     "execution_count": 80,
     "metadata": {},
     "output_type": "execute_result"
    }
   ],
   "source": [
    "Y=data['TOTAL CLAIMS PAID ON POLICY']\n",
    "Y"
   ]
  },
  {
   "cell_type": "markdown",
   "id": "6f863e5a",
   "metadata": {},
   "source": [
    "# Training Dataset"
   ]
  },
  {
   "cell_type": "code",
   "execution_count": 81,
   "id": "1feca541",
   "metadata": {},
   "outputs": [],
   "source": [
    "X_train,X_test,Y_train,Y_test= train_test_split(X,Y, train_size=0.80, random_state=42 )"
   ]
  },
  {
   "cell_type": "markdown",
   "id": "b51fe8be",
   "metadata": {},
   "source": [
    "Data Balancing"
   ]
  },
  {
   "cell_type": "code",
   "execution_count": 82,
   "id": "5872ab0d",
   "metadata": {},
   "outputs": [],
   "source": [
    "#Y_train.value_counts()"
   ]
  },
  {
   "cell_type": "code",
   "execution_count": 83,
   "id": "a63d3fb4",
   "metadata": {},
   "outputs": [],
   "source": [
    "import imblearn"
   ]
  },
  {
   "cell_type": "code",
   "execution_count": 84,
   "id": "90f26d2e",
   "metadata": {},
   "outputs": [],
   "source": [
    "from imblearn.over_sampling import SMOTE\n",
    "\n",
    "smote = SMOTE(random_state= 42)\n",
    "\n",
    "# fit predictor and target variable\n",
    "X_train, Y_train = smote.fit_resample(X_train, Y_train)"
   ]
  },
  {
   "cell_type": "code",
   "execution_count": 85,
   "id": "2b76f586",
   "metadata": {},
   "outputs": [
    {
     "data": {
      "text/plain": [
       "0    2006\n",
       "1    2006\n",
       "Name: TOTAL CLAIMS PAID ON POLICY, dtype: int64"
      ]
     },
     "execution_count": 85,
     "metadata": {},
     "output_type": "execute_result"
    }
   ],
   "source": [
    "Y_train.value_counts()"
   ]
  },
  {
   "cell_type": "markdown",
   "id": "3181401d",
   "metadata": {},
   "source": [
    "# Logistic Regression"
   ]
  },
  {
   "cell_type": "code",
   "execution_count": 86,
   "id": "81eb23e7",
   "metadata": {},
   "outputs": [
    {
     "data": {
      "text/html": [
       "<style>#sk-container-id-4 {color: black;}#sk-container-id-4 pre{padding: 0;}#sk-container-id-4 div.sk-toggleable {background-color: white;}#sk-container-id-4 label.sk-toggleable__label {cursor: pointer;display: block;width: 100%;margin-bottom: 0;padding: 0.3em;box-sizing: border-box;text-align: center;}#sk-container-id-4 label.sk-toggleable__label-arrow:before {content: \"▸\";float: left;margin-right: 0.25em;color: #696969;}#sk-container-id-4 label.sk-toggleable__label-arrow:hover:before {color: black;}#sk-container-id-4 div.sk-estimator:hover label.sk-toggleable__label-arrow:before {color: black;}#sk-container-id-4 div.sk-toggleable__content {max-height: 0;max-width: 0;overflow: hidden;text-align: left;background-color: #f0f8ff;}#sk-container-id-4 div.sk-toggleable__content pre {margin: 0.2em;color: black;border-radius: 0.25em;background-color: #f0f8ff;}#sk-container-id-4 input.sk-toggleable__control:checked~div.sk-toggleable__content {max-height: 200px;max-width: 100%;overflow: auto;}#sk-container-id-4 input.sk-toggleable__control:checked~label.sk-toggleable__label-arrow:before {content: \"▾\";}#sk-container-id-4 div.sk-estimator input.sk-toggleable__control:checked~label.sk-toggleable__label {background-color: #d4ebff;}#sk-container-id-4 div.sk-label input.sk-toggleable__control:checked~label.sk-toggleable__label {background-color: #d4ebff;}#sk-container-id-4 input.sk-hidden--visually {border: 0;clip: rect(1px 1px 1px 1px);clip: rect(1px, 1px, 1px, 1px);height: 1px;margin: -1px;overflow: hidden;padding: 0;position: absolute;width: 1px;}#sk-container-id-4 div.sk-estimator {font-family: monospace;background-color: #f0f8ff;border: 1px dotted black;border-radius: 0.25em;box-sizing: border-box;margin-bottom: 0.5em;}#sk-container-id-4 div.sk-estimator:hover {background-color: #d4ebff;}#sk-container-id-4 div.sk-parallel-item::after {content: \"\";width: 100%;border-bottom: 1px solid gray;flex-grow: 1;}#sk-container-id-4 div.sk-label:hover label.sk-toggleable__label {background-color: #d4ebff;}#sk-container-id-4 div.sk-serial::before {content: \"\";position: absolute;border-left: 1px solid gray;box-sizing: border-box;top: 0;bottom: 0;left: 50%;z-index: 0;}#sk-container-id-4 div.sk-serial {display: flex;flex-direction: column;align-items: center;background-color: white;padding-right: 0.2em;padding-left: 0.2em;position: relative;}#sk-container-id-4 div.sk-item {position: relative;z-index: 1;}#sk-container-id-4 div.sk-parallel {display: flex;align-items: stretch;justify-content: center;background-color: white;position: relative;}#sk-container-id-4 div.sk-item::before, #sk-container-id-4 div.sk-parallel-item::before {content: \"\";position: absolute;border-left: 1px solid gray;box-sizing: border-box;top: 0;bottom: 0;left: 50%;z-index: -1;}#sk-container-id-4 div.sk-parallel-item {display: flex;flex-direction: column;z-index: 1;position: relative;background-color: white;}#sk-container-id-4 div.sk-parallel-item:first-child::after {align-self: flex-end;width: 50%;}#sk-container-id-4 div.sk-parallel-item:last-child::after {align-self: flex-start;width: 50%;}#sk-container-id-4 div.sk-parallel-item:only-child::after {width: 0;}#sk-container-id-4 div.sk-dashed-wrapped {border: 1px dashed gray;margin: 0 0.4em 0.5em 0.4em;box-sizing: border-box;padding-bottom: 0.4em;background-color: white;}#sk-container-id-4 div.sk-label label {font-family: monospace;font-weight: bold;display: inline-block;line-height: 1.2em;}#sk-container-id-4 div.sk-label-container {text-align: center;}#sk-container-id-4 div.sk-container {/* jupyter's `normalize.less` sets `[hidden] { display: none; }` but bootstrap.min.css set `[hidden] { display: none !important; }` so we also need the `!important` here to be able to override the default hidden behavior on the sphinx rendered scikit-learn.org. See: https://github.com/scikit-learn/scikit-learn/issues/21755 */display: inline-block !important;position: relative;}#sk-container-id-4 div.sk-text-repr-fallback {display: none;}</style><div id=\"sk-container-id-4\" class=\"sk-top-container\"><div class=\"sk-text-repr-fallback\"><pre>LogisticRegression()</pre><b>In a Jupyter environment, please rerun this cell to show the HTML representation or trust the notebook. <br />On GitHub, the HTML representation is unable to render, please try loading this page with nbviewer.org.</b></div><div class=\"sk-container\" hidden><div class=\"sk-item\"><div class=\"sk-estimator sk-toggleable\"><input class=\"sk-toggleable__control sk-hidden--visually\" id=\"sk-estimator-id-4\" type=\"checkbox\" checked><label for=\"sk-estimator-id-4\" class=\"sk-toggleable__label sk-toggleable__label-arrow\">LogisticRegression</label><div class=\"sk-toggleable__content\"><pre>LogisticRegression()</pre></div></div></div></div></div>"
      ],
      "text/plain": [
       "LogisticRegression()"
      ]
     },
     "execution_count": 86,
     "metadata": {},
     "output_type": "execute_result"
    }
   ],
   "source": [
    "from sklearn import metrics\n",
    "from sklearn.linear_model import LogisticRegression\n",
    "\n",
    "reg=LogisticRegression()\n",
    "reg.fit(X_train,Y_train)"
   ]
  },
  {
   "cell_type": "markdown",
   "id": "37987351",
   "metadata": {},
   "source": [
    "Tuning"
   ]
  },
  {
   "cell_type": "code",
   "execution_count": 87,
   "id": "b9e8b556",
   "metadata": {},
   "outputs": [
    {
     "name": "stdout",
     "output_type": "stream",
     "text": [
      "{'C': 0.01}\n"
     ]
    }
   ],
   "source": [
    "# define the hyperparameters to tune\n",
    "param_grid = {'C': [0.01, 0.1, 1, 10, 100]}\n",
    "\n",
    "# perform grid search to find the best hyperparameters\n",
    "grid_search = GridSearchCV(reg, param_grid, cv=5)\n",
    "grid_search.fit(X_train, Y_train)\n",
    "\n",
    "# get the best hyperparameters\n",
    "best_params = grid_search.best_params_\n",
    "print(best_params)"
   ]
  },
  {
   "cell_type": "code",
   "execution_count": 88,
   "id": "ffadca24",
   "metadata": {},
   "outputs": [],
   "source": [
    "reg=LogisticRegression(C=0.01)"
   ]
  },
  {
   "cell_type": "code",
   "execution_count": 89,
   "id": "f6e7b143",
   "metadata": {},
   "outputs": [],
   "source": [
    "reg.fit(X_train,Y_train)\n",
    "y_predict=reg.predict(X_test)\n",
    "#y_predict=reg.predict_proba(X_test)"
   ]
  },
  {
   "cell_type": "markdown",
   "id": "ed4c92e2",
   "metadata": {},
   "source": [
    "Model Evaluation"
   ]
  },
  {
   "cell_type": "code",
   "execution_count": 90,
   "id": "54e18b21",
   "metadata": {},
   "outputs": [
    {
     "name": "stdout",
     "output_type": "stream",
     "text": [
      "              precision    recall  f1-score   support\n",
      "\n",
      "           0       0.71      0.92      0.80       494\n",
      "           1       0.87      0.57      0.69       438\n",
      "\n",
      "    accuracy                           0.76       932\n",
      "   macro avg       0.79      0.75      0.75       932\n",
      "weighted avg       0.78      0.76      0.75       932\n",
      "\n"
     ]
    }
   ],
   "source": [
    "from sklearn.metrics import classification_report\n",
    "print(classification_report(Y_test, y_predict))"
   ]
  },
  {
   "cell_type": "markdown",
   "id": "4aadefd3",
   "metadata": {},
   "source": [
    "# Random Forest"
   ]
  },
  {
   "cell_type": "markdown",
   "id": "7f29f381",
   "metadata": {},
   "source": [
    "Tuning"
   ]
  },
  {
   "cell_type": "code",
   "execution_count": 91,
   "id": "43641f51",
   "metadata": {},
   "outputs": [],
   "source": [
    "from sklearn.ensemble import RandomForestClassifier\n",
    "model = RandomForestClassifier()\n"
   ]
  },
  {
   "cell_type": "code",
   "execution_count": 92,
   "id": "19756e25",
   "metadata": {},
   "outputs": [
    {
     "data": {
      "text/html": [
       "<style>#sk-container-id-5 {color: black;}#sk-container-id-5 pre{padding: 0;}#sk-container-id-5 div.sk-toggleable {background-color: white;}#sk-container-id-5 label.sk-toggleable__label {cursor: pointer;display: block;width: 100%;margin-bottom: 0;padding: 0.3em;box-sizing: border-box;text-align: center;}#sk-container-id-5 label.sk-toggleable__label-arrow:before {content: \"▸\";float: left;margin-right: 0.25em;color: #696969;}#sk-container-id-5 label.sk-toggleable__label-arrow:hover:before {color: black;}#sk-container-id-5 div.sk-estimator:hover label.sk-toggleable__label-arrow:before {color: black;}#sk-container-id-5 div.sk-toggleable__content {max-height: 0;max-width: 0;overflow: hidden;text-align: left;background-color: #f0f8ff;}#sk-container-id-5 div.sk-toggleable__content pre {margin: 0.2em;color: black;border-radius: 0.25em;background-color: #f0f8ff;}#sk-container-id-5 input.sk-toggleable__control:checked~div.sk-toggleable__content {max-height: 200px;max-width: 100%;overflow: auto;}#sk-container-id-5 input.sk-toggleable__control:checked~label.sk-toggleable__label-arrow:before {content: \"▾\";}#sk-container-id-5 div.sk-estimator input.sk-toggleable__control:checked~label.sk-toggleable__label {background-color: #d4ebff;}#sk-container-id-5 div.sk-label input.sk-toggleable__control:checked~label.sk-toggleable__label {background-color: #d4ebff;}#sk-container-id-5 input.sk-hidden--visually {border: 0;clip: rect(1px 1px 1px 1px);clip: rect(1px, 1px, 1px, 1px);height: 1px;margin: -1px;overflow: hidden;padding: 0;position: absolute;width: 1px;}#sk-container-id-5 div.sk-estimator {font-family: monospace;background-color: #f0f8ff;border: 1px dotted black;border-radius: 0.25em;box-sizing: border-box;margin-bottom: 0.5em;}#sk-container-id-5 div.sk-estimator:hover {background-color: #d4ebff;}#sk-container-id-5 div.sk-parallel-item::after {content: \"\";width: 100%;border-bottom: 1px solid gray;flex-grow: 1;}#sk-container-id-5 div.sk-label:hover label.sk-toggleable__label {background-color: #d4ebff;}#sk-container-id-5 div.sk-serial::before {content: \"\";position: absolute;border-left: 1px solid gray;box-sizing: border-box;top: 0;bottom: 0;left: 50%;z-index: 0;}#sk-container-id-5 div.sk-serial {display: flex;flex-direction: column;align-items: center;background-color: white;padding-right: 0.2em;padding-left: 0.2em;position: relative;}#sk-container-id-5 div.sk-item {position: relative;z-index: 1;}#sk-container-id-5 div.sk-parallel {display: flex;align-items: stretch;justify-content: center;background-color: white;position: relative;}#sk-container-id-5 div.sk-item::before, #sk-container-id-5 div.sk-parallel-item::before {content: \"\";position: absolute;border-left: 1px solid gray;box-sizing: border-box;top: 0;bottom: 0;left: 50%;z-index: -1;}#sk-container-id-5 div.sk-parallel-item {display: flex;flex-direction: column;z-index: 1;position: relative;background-color: white;}#sk-container-id-5 div.sk-parallel-item:first-child::after {align-self: flex-end;width: 50%;}#sk-container-id-5 div.sk-parallel-item:last-child::after {align-self: flex-start;width: 50%;}#sk-container-id-5 div.sk-parallel-item:only-child::after {width: 0;}#sk-container-id-5 div.sk-dashed-wrapped {border: 1px dashed gray;margin: 0 0.4em 0.5em 0.4em;box-sizing: border-box;padding-bottom: 0.4em;background-color: white;}#sk-container-id-5 div.sk-label label {font-family: monospace;font-weight: bold;display: inline-block;line-height: 1.2em;}#sk-container-id-5 div.sk-label-container {text-align: center;}#sk-container-id-5 div.sk-container {/* jupyter's `normalize.less` sets `[hidden] { display: none; }` but bootstrap.min.css set `[hidden] { display: none !important; }` so we also need the `!important` here to be able to override the default hidden behavior on the sphinx rendered scikit-learn.org. See: https://github.com/scikit-learn/scikit-learn/issues/21755 */display: inline-block !important;position: relative;}#sk-container-id-5 div.sk-text-repr-fallback {display: none;}</style><div id=\"sk-container-id-5\" class=\"sk-top-container\"><div class=\"sk-text-repr-fallback\"><pre>RandomForestClassifier()</pre><b>In a Jupyter environment, please rerun this cell to show the HTML representation or trust the notebook. <br />On GitHub, the HTML representation is unable to render, please try loading this page with nbviewer.org.</b></div><div class=\"sk-container\" hidden><div class=\"sk-item\"><div class=\"sk-estimator sk-toggleable\"><input class=\"sk-toggleable__control sk-hidden--visually\" id=\"sk-estimator-id-5\" type=\"checkbox\" checked><label for=\"sk-estimator-id-5\" class=\"sk-toggleable__label sk-toggleable__label-arrow\">RandomForestClassifier</label><div class=\"sk-toggleable__content\"><pre>RandomForestClassifier()</pre></div></div></div></div></div>"
      ],
      "text/plain": [
       "RandomForestClassifier()"
      ]
     },
     "execution_count": 92,
     "metadata": {},
     "output_type": "execute_result"
    }
   ],
   "source": [
    "model.fit(X_train,Y_train)"
   ]
  },
  {
   "cell_type": "code",
   "execution_count": 93,
   "id": "6f091fa5",
   "metadata": {},
   "outputs": [],
   "source": [
    "Y_predict=model.predict(X_test)\n",
    "#Y_predict=model.predict_proba(X_test)"
   ]
  },
  {
   "cell_type": "markdown",
   "id": "d89258b3",
   "metadata": {},
   "source": [
    "Model Evaluation"
   ]
  },
  {
   "cell_type": "code",
   "execution_count": 94,
   "id": "64435c0d",
   "metadata": {},
   "outputs": [
    {
     "name": "stdout",
     "output_type": "stream",
     "text": [
      "              precision    recall  f1-score   support\n",
      "\n",
      "           0       0.86      0.84      0.85       494\n",
      "           1       0.83      0.84      0.84       438\n",
      "\n",
      "    accuracy                           0.84       932\n",
      "   macro avg       0.84      0.84      0.84       932\n",
      "weighted avg       0.84      0.84      0.84       932\n",
      "\n"
     ]
    }
   ],
   "source": [
    "from sklearn.metrics import classification_report\n",
    "print(classification_report(Y_test, Y_predict))"
   ]
  },
  {
   "cell_type": "markdown",
   "id": "bffb359c",
   "metadata": {},
   "source": [
    "Confusion Matrix"
   ]
  },
  {
   "cell_type": "code",
   "execution_count": 95,
   "id": "85f50ce3",
   "metadata": {},
   "outputs": [],
   "source": [
    "from sklearn import metrics\n",
    "#cm=metrics.confusion_matrix(Y_test,Y_predict)"
   ]
  },
  {
   "cell_type": "code",
   "execution_count": 96,
   "id": "98c91cbf",
   "metadata": {},
   "outputs": [
    {
     "data": {
      "text/html": [
       "<div>\n",
       "<style scoped>\n",
       "    .dataframe tbody tr th:only-of-type {\n",
       "        vertical-align: middle;\n",
       "    }\n",
       "\n",
       "    .dataframe tbody tr th {\n",
       "        vertical-align: top;\n",
       "    }\n",
       "\n",
       "    .dataframe thead th {\n",
       "        text-align: right;\n",
       "    }\n",
       "</style>\n",
       "<table border=\"1\" class=\"dataframe\">\n",
       "  <thead>\n",
       "    <tr style=\"text-align: right;\">\n",
       "      <th></th>\n",
       "      <th>Predicted 0 (No claim)</th>\n",
       "      <th>Predicted 1(Claim)</th>\n",
       "    </tr>\n",
       "  </thead>\n",
       "  <tbody>\n",
       "    <tr>\n",
       "      <th>Actual 0 (No claim)</th>\n",
       "      <td>417</td>\n",
       "      <td>77</td>\n",
       "    </tr>\n",
       "    <tr>\n",
       "      <th>Actual 1(Claim)</th>\n",
       "      <td>68</td>\n",
       "      <td>370</td>\n",
       "    </tr>\n",
       "  </tbody>\n",
       "</table>\n",
       "</div>"
      ],
      "text/plain": [
       "                     Predicted 0 (No claim)  Predicted 1(Claim)\n",
       "Actual 0 (No claim)                     417                  77\n",
       "Actual 1(Claim)                          68                 370"
      ]
     },
     "execution_count": 96,
     "metadata": {},
     "output_type": "execute_result"
    }
   ],
   "source": [
    "from sklearn.metrics import confusion_matrix\n",
    "PRED=pd.DataFrame(confusion_matrix(Y_test, Y_predict))\n",
    "PRED.columns=['Predicted 0 (No claim)','Predicted 1(Claim)']\n",
    "PRED=PRED.rename(index={0:'Actual 0 (No claim)',1:'Actual 1(Claim) '})\n",
    "PRED"
   ]
  },
  {
   "cell_type": "markdown",
   "id": "fecfb5e6",
   "metadata": {},
   "source": [
    "# XGBoost"
   ]
  },
  {
   "cell_type": "code",
   "execution_count": 97,
   "id": "a32d2e09",
   "metadata": {},
   "outputs": [
    {
     "data": {
      "text/html": [
       "<style>#sk-container-id-6 {color: black;}#sk-container-id-6 pre{padding: 0;}#sk-container-id-6 div.sk-toggleable {background-color: white;}#sk-container-id-6 label.sk-toggleable__label {cursor: pointer;display: block;width: 100%;margin-bottom: 0;padding: 0.3em;box-sizing: border-box;text-align: center;}#sk-container-id-6 label.sk-toggleable__label-arrow:before {content: \"▸\";float: left;margin-right: 0.25em;color: #696969;}#sk-container-id-6 label.sk-toggleable__label-arrow:hover:before {color: black;}#sk-container-id-6 div.sk-estimator:hover label.sk-toggleable__label-arrow:before {color: black;}#sk-container-id-6 div.sk-toggleable__content {max-height: 0;max-width: 0;overflow: hidden;text-align: left;background-color: #f0f8ff;}#sk-container-id-6 div.sk-toggleable__content pre {margin: 0.2em;color: black;border-radius: 0.25em;background-color: #f0f8ff;}#sk-container-id-6 input.sk-toggleable__control:checked~div.sk-toggleable__content {max-height: 200px;max-width: 100%;overflow: auto;}#sk-container-id-6 input.sk-toggleable__control:checked~label.sk-toggleable__label-arrow:before {content: \"▾\";}#sk-container-id-6 div.sk-estimator input.sk-toggleable__control:checked~label.sk-toggleable__label {background-color: #d4ebff;}#sk-container-id-6 div.sk-label input.sk-toggleable__control:checked~label.sk-toggleable__label {background-color: #d4ebff;}#sk-container-id-6 input.sk-hidden--visually {border: 0;clip: rect(1px 1px 1px 1px);clip: rect(1px, 1px, 1px, 1px);height: 1px;margin: -1px;overflow: hidden;padding: 0;position: absolute;width: 1px;}#sk-container-id-6 div.sk-estimator {font-family: monospace;background-color: #f0f8ff;border: 1px dotted black;border-radius: 0.25em;box-sizing: border-box;margin-bottom: 0.5em;}#sk-container-id-6 div.sk-estimator:hover {background-color: #d4ebff;}#sk-container-id-6 div.sk-parallel-item::after {content: \"\";width: 100%;border-bottom: 1px solid gray;flex-grow: 1;}#sk-container-id-6 div.sk-label:hover label.sk-toggleable__label {background-color: #d4ebff;}#sk-container-id-6 div.sk-serial::before {content: \"\";position: absolute;border-left: 1px solid gray;box-sizing: border-box;top: 0;bottom: 0;left: 50%;z-index: 0;}#sk-container-id-6 div.sk-serial {display: flex;flex-direction: column;align-items: center;background-color: white;padding-right: 0.2em;padding-left: 0.2em;position: relative;}#sk-container-id-6 div.sk-item {position: relative;z-index: 1;}#sk-container-id-6 div.sk-parallel {display: flex;align-items: stretch;justify-content: center;background-color: white;position: relative;}#sk-container-id-6 div.sk-item::before, #sk-container-id-6 div.sk-parallel-item::before {content: \"\";position: absolute;border-left: 1px solid gray;box-sizing: border-box;top: 0;bottom: 0;left: 50%;z-index: -1;}#sk-container-id-6 div.sk-parallel-item {display: flex;flex-direction: column;z-index: 1;position: relative;background-color: white;}#sk-container-id-6 div.sk-parallel-item:first-child::after {align-self: flex-end;width: 50%;}#sk-container-id-6 div.sk-parallel-item:last-child::after {align-self: flex-start;width: 50%;}#sk-container-id-6 div.sk-parallel-item:only-child::after {width: 0;}#sk-container-id-6 div.sk-dashed-wrapped {border: 1px dashed gray;margin: 0 0.4em 0.5em 0.4em;box-sizing: border-box;padding-bottom: 0.4em;background-color: white;}#sk-container-id-6 div.sk-label label {font-family: monospace;font-weight: bold;display: inline-block;line-height: 1.2em;}#sk-container-id-6 div.sk-label-container {text-align: center;}#sk-container-id-6 div.sk-container {/* jupyter's `normalize.less` sets `[hidden] { display: none; }` but bootstrap.min.css set `[hidden] { display: none !important; }` so we also need the `!important` here to be able to override the default hidden behavior on the sphinx rendered scikit-learn.org. See: https://github.com/scikit-learn/scikit-learn/issues/21755 */display: inline-block !important;position: relative;}#sk-container-id-6 div.sk-text-repr-fallback {display: none;}</style><div id=\"sk-container-id-6\" class=\"sk-top-container\"><div class=\"sk-text-repr-fallback\"><pre>XGBClassifier(base_score=None, booster=None, callbacks=None,\n",
       "              colsample_bylevel=None, colsample_bynode=None,\n",
       "              colsample_bytree=None, early_stopping_rounds=None,\n",
       "              enable_categorical=False, eval_metric=None, feature_types=None,\n",
       "              gamma=None, gpu_id=None, grow_policy=None, importance_type=None,\n",
       "              interaction_constraints=None, learning_rate=None, max_bin=None,\n",
       "              max_cat_threshold=None, max_cat_to_onehot=None,\n",
       "              max_delta_step=None, max_depth=None, max_leaves=None,\n",
       "              min_child_weight=None, missing=nan, monotone_constraints=None,\n",
       "              n_estimators=100, n_jobs=None, num_parallel_tree=None,\n",
       "              predictor=None, random_state=None, ...)</pre><b>In a Jupyter environment, please rerun this cell to show the HTML representation or trust the notebook. <br />On GitHub, the HTML representation is unable to render, please try loading this page with nbviewer.org.</b></div><div class=\"sk-container\" hidden><div class=\"sk-item\"><div class=\"sk-estimator sk-toggleable\"><input class=\"sk-toggleable__control sk-hidden--visually\" id=\"sk-estimator-id-6\" type=\"checkbox\" checked><label for=\"sk-estimator-id-6\" class=\"sk-toggleable__label sk-toggleable__label-arrow\">XGBClassifier</label><div class=\"sk-toggleable__content\"><pre>XGBClassifier(base_score=None, booster=None, callbacks=None,\n",
       "              colsample_bylevel=None, colsample_bynode=None,\n",
       "              colsample_bytree=None, early_stopping_rounds=None,\n",
       "              enable_categorical=False, eval_metric=None, feature_types=None,\n",
       "              gamma=None, gpu_id=None, grow_policy=None, importance_type=None,\n",
       "              interaction_constraints=None, learning_rate=None, max_bin=None,\n",
       "              max_cat_threshold=None, max_cat_to_onehot=None,\n",
       "              max_delta_step=None, max_depth=None, max_leaves=None,\n",
       "              min_child_weight=None, missing=nan, monotone_constraints=None,\n",
       "              n_estimators=100, n_jobs=None, num_parallel_tree=None,\n",
       "              predictor=None, random_state=None, ...)</pre></div></div></div></div></div>"
      ],
      "text/plain": [
       "XGBClassifier(base_score=None, booster=None, callbacks=None,\n",
       "              colsample_bylevel=None, colsample_bynode=None,\n",
       "              colsample_bytree=None, early_stopping_rounds=None,\n",
       "              enable_categorical=False, eval_metric=None, feature_types=None,\n",
       "              gamma=None, gpu_id=None, grow_policy=None, importance_type=None,\n",
       "              interaction_constraints=None, learning_rate=None, max_bin=None,\n",
       "              max_cat_threshold=None, max_cat_to_onehot=None,\n",
       "              max_delta_step=None, max_depth=None, max_leaves=None,\n",
       "              min_child_weight=None, missing=nan, monotone_constraints=None,\n",
       "              n_estimators=100, n_jobs=None, num_parallel_tree=None,\n",
       "              predictor=None, random_state=None, ...)"
      ]
     },
     "execution_count": 97,
     "metadata": {},
     "output_type": "execute_result"
    }
   ],
   "source": [
    "import xgboost as xgb\n",
    "from xgboost import XGBClassifier\n",
    "\n",
    "learn = XGBClassifier()\n",
    "learn.fit(X_train, Y_train)"
   ]
  },
  {
   "cell_type": "code",
   "execution_count": 98,
   "id": "634023f7",
   "metadata": {},
   "outputs": [],
   "source": [
    "pre = learn.predict(X_test)\n",
    "#pre = learn.predict_proba(X_test)\n",
    "sci_pred = [round(value) for value in pre]\n"
   ]
  },
  {
   "cell_type": "markdown",
   "id": "15236375",
   "metadata": {},
   "source": [
    "Model Evaluation"
   ]
  },
  {
   "cell_type": "code",
   "execution_count": 99,
   "id": "42304a42",
   "metadata": {},
   "outputs": [
    {
     "name": "stdout",
     "output_type": "stream",
     "text": [
      "              precision    recall  f1-score   support\n",
      "\n",
      "           0       0.93      0.83      0.88       494\n",
      "           1       0.83      0.93      0.88       438\n",
      "\n",
      "    accuracy                           0.88       932\n",
      "   macro avg       0.88      0.88      0.88       932\n",
      "weighted avg       0.88      0.88      0.88       932\n",
      "\n"
     ]
    }
   ],
   "source": [
    "print(classification_report(Y_test, pre))"
   ]
  },
  {
   "cell_type": "markdown",
   "id": "8245530a",
   "metadata": {},
   "source": [
    "Confusion Matrix"
   ]
  },
  {
   "cell_type": "code",
   "execution_count": 100,
   "id": "668829c9",
   "metadata": {},
   "outputs": [
    {
     "data": {
      "text/html": [
       "<div>\n",
       "<style scoped>\n",
       "    .dataframe tbody tr th:only-of-type {\n",
       "        vertical-align: middle;\n",
       "    }\n",
       "\n",
       "    .dataframe tbody tr th {\n",
       "        vertical-align: top;\n",
       "    }\n",
       "\n",
       "    .dataframe thead th {\n",
       "        text-align: right;\n",
       "    }\n",
       "</style>\n",
       "<table border=\"1\" class=\"dataframe\">\n",
       "  <thead>\n",
       "    <tr style=\"text-align: right;\">\n",
       "      <th></th>\n",
       "      <th>Predicted 0 (No claim)</th>\n",
       "      <th>Predicted 1(Claim)</th>\n",
       "    </tr>\n",
       "  </thead>\n",
       "  <tbody>\n",
       "    <tr>\n",
       "      <th>Actual 0 (No claim)</th>\n",
       "      <td>408</td>\n",
       "      <td>86</td>\n",
       "    </tr>\n",
       "    <tr>\n",
       "      <th>Actual 1(Claim)</th>\n",
       "      <td>29</td>\n",
       "      <td>409</td>\n",
       "    </tr>\n",
       "  </tbody>\n",
       "</table>\n",
       "</div>"
      ],
      "text/plain": [
       "                     Predicted 0 (No claim)  Predicted 1(Claim)\n",
       "Actual 0 (No claim)                     408                  86\n",
       "Actual 1(Claim)                          29                 409"
      ]
     },
     "execution_count": 100,
     "metadata": {},
     "output_type": "execute_result"
    }
   ],
   "source": [
    "from sklearn.metrics import confusion_matrix\n",
    "PRE=pd.DataFrame(confusion_matrix(Y_test, pre))\n",
    "PRE.columns=['Predicted 0 (No claim)','Predicted 1(Claim)']\n",
    "PRE=PRE.rename(index={0:'Actual 0 (No claim)',1:'Actual 1(Claim) '})\n",
    "PRE"
   ]
  },
  {
   "cell_type": "markdown",
   "id": "bf7e0d2f",
   "metadata": {},
   "source": [
    "# SHAP"
   ]
  },
  {
   "cell_type": "markdown",
   "id": "3d748f92",
   "metadata": {},
   "source": [
    "SHAP for Random Forest"
   ]
  },
  {
   "cell_type": "code",
   "execution_count": 101,
   "id": "53ec1b26",
   "metadata": {},
   "outputs": [],
   "source": [
    "import shap"
   ]
  },
  {
   "cell_type": "code",
   "execution_count": 102,
   "id": "372412e3",
   "metadata": {},
   "outputs": [
    {
     "data": {
      "image/png": "[encoded data removed]",
      "text/plain": [
       "<Figure size 576x136.8 with 1 Axes>"
      ]
     },
     "metadata": {},
     "output_type": "display_data"
    }
   ],
   "source": [
    "explainer=shap.TreeExplainer(model)\n",
    "shap_values=explainer.shap_values(X_test)\n",
    "shap.summary_plot(shap_values,X_test)"
   ]
  },
  {
   "cell_type": "markdown",
   "id": "fa2c2b59",
   "metadata": {},
   "source": [
    "SHAP for XGBoost"
   ]
  },
  {
   "cell_type": "code",
   "execution_count": 103,
   "id": "375b57f9",
   "metadata": {},
   "outputs": [
    {
     "data": {
      "image/png": "[encoded data removed]",
      "text/plain": [
       "<Figure size 576x144 with 3 Axes>"
      ]
     },
     "metadata": {},
     "output_type": "display_data"
    }
   ],
   "source": [
    "# explain the model's predictions using SHAP\n",
    "explainer=shap.TreeExplainer(learn)\n",
    "shap_values=explainer(X_test)\n",
    "\n",
    "shap.plots.waterfall(shap_values[0])"
   ]
  },
  {
   "cell_type": "markdown",
   "id": "1e454c28",
   "metadata": {},
   "source": [
    "# Saving our ML(XGBoost) model using Pickle"
   ]
  },
  {
   "cell_type": "code",
   "execution_count": 104,
   "id": "1b9afef8",
   "metadata": {},
   "outputs": [],
   "source": [
    "import pickle"
   ]
  },
  {
   "cell_type": "code",
   "execution_count": 105,
   "id": "e924d941",
   "metadata": {},
   "outputs": [],
   "source": [
    "model_file=\"Claim_Classifier_model2.pkl\" "
   ]
  },
  {
   "cell_type": "code",
   "execution_count": 106,
   "id": "aefe09bf",
   "metadata": {},
   "outputs": [],
   "source": [
    "with open(model_file, 'wb') as file:  \n",
    "    pickle.dump(learn, file)"
   ]
  },
  {
   "cell_type": "markdown",
   "id": "f178deb0",
   "metadata": {},
   "source": [
    "# Testing our saved model"
   ]
  },
  {
   "cell_type": "code",
   "execution_count": 107,
   "id": "dc334e71",
   "metadata": {},
   "outputs": [],
   "source": [
    " #load saved model\n",
    "with open('Claim_Classifier_model2.pkl' , 'rb') as f:\n",
    "    lr = pickle.load(f)\n"
   ]
  },
  {
   "cell_type": "code",
   "execution_count": 108,
   "id": "e3758913",
   "metadata": {},
   "outputs": [
    {
     "name": "stdout",
     "output_type": "stream",
     "text": [
      "Enter the amount of premium paid: 400000\n"
     ]
    }
   ],
   "source": [
    "Premium_Paid=eval(input('Enter the amount of premium paid: '))"
   ]
  },
  {
   "cell_type": "code",
   "execution_count": 109,
   "id": "4460e5b3",
   "metadata": {},
   "outputs": [],
   "source": [
    "# check prediction\n",
    "Claim=lr.predict([[Premium_Paid]])"
   ]
  },
  {
   "cell_type": "code",
   "execution_count": 110,
   "id": "cfaa133b",
   "metadata": {},
   "outputs": [
    {
     "name": "stdout",
     "output_type": "stream",
     "text": [
      "The probability of this individual making a claim is high\n"
     ]
    }
   ],
   "source": [
    "for i in Claim:\n",
    "    if i==0:\n",
    "        print('The probability of this individual making a claim is low')\n",
    "    if i==1:\n",
    "        print('The probability of this individual making a claim is high')"
   ]
  },
  {
   "cell_type": "code",
   "execution_count": null,
   "id": "2f5a681d",
   "metadata": {},
   "outputs": [],
   "source": []
  }
 ],
 "metadata": {
  "kernelspec": {
   "display_name": "Python 3",
   "language": "python",
   "name": "python3"
  },
  "language_info": {
   "codemirror_mode": {
    "name": "ipython",
    "version": 3
   },
   "file_extension": ".py",
   "mimetype": "text/x-python",
   "name": "python",
   "nbconvert_exporter": "python",
   "pygments_lexer": "ipython3",
   "version": "3.8.8"
  }
 },
 "nbformat": 4,
 "nbformat_minor": 5
}
